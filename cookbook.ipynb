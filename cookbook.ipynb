{
 "cells": [
  {
   "cell_type": "markdown",
   "metadata": {
    "collapsed": true
   },
   "source": [
    "# Galvanize Data Science Cookbook"
   ]
  },
  {
   "cell_type": "markdown",
   "metadata": {},
   "source": [
    "##### To use\n",
    "\n",
    "```\n",
    "fork repo ...\n",
    "git clone ...\n",
    "commit locally ...\n",
    "push to your local master...\n",
    "make a pull request to the original repo here.\n",
    "```"
   ]
  },
  {
   "cell_type": "markdown",
   "metadata": {},
   "source": [
    "### Contribution Policy\n",
    "\n",
    "- The maintainer shall build the structure and post solutions to the repo at days end. \n",
    "- Contributors, shall fetch an update to the project before making a pull request. \n",
    "- The contributor, you, then overwrite your new updated repo with your contribution. "
   ]
  },
  {
   "cell_type": "markdown",
   "metadata": {},
   "source": [
    "##### Adding comments\n",
    "\n",
    "\n",
    "##### Adding code\n",
    "\n",
    "\n",
    "##### Adding resources\n"
   ]
  },
  {
   "cell_type": "markdown",
   "metadata": {},
   "source": [
    "### Recipes\n",
    "- TOC\n",
    "-- Programming\n",
    "--- Workflow\n",
    "--- Python\n",
    "--- SQL\n",
    "--- Pandas\n",
    "--- Unix\n",
    "-- Probability and Statistics\n",
    "--- Probability\n",
    "--- Sampling and Esimation\n",
    "--- Frequentist Hypothesis Testing\n",
    "--- Bayesian Statistics\n",
    "-- Linear Regression\n",
    "-- Supervised Learning\n",
    "-- Special Topics\n",
    "-- Unsupervised Learning\n",
    "-- Data Engineering\n",
    "-- Special Topics"
   ]
  },
  {
   "cell_type": "code",
   "execution_count": null,
   "metadata": {},
   "outputs": [],
   "source": [
    ""
   ]
  }
 ],
 "metadata": {
  "kernelspec": {
   "display_name": "Python 2",
   "language": "python",
   "name": "python2"
  },
  "language_info": {
   "codemirror_mode": {
    "name": "ipython",
    "version": 2.0
   },
   "file_extension": ".py",
   "mimetype": "text/x-python",
   "name": "python",
   "nbconvert_exporter": "python",
   "pygments_lexer": "ipython2",
   "version": "2.7.6"
  }
 },
 "nbformat": 4,
 "nbformat_minor": 0
}