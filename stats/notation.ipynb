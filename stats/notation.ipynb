{
 "cells": [
  {
   "cell_type": "markdown",
   "metadata": {
    "collapsed": true
   },
   "source": [
    "# List of LaTeX mathematical symbols"
   ]
  },
  {
   "cell_type": "markdown",
   "metadata": {},
   "source": [
    "### Greek letters"
   ]
  },
  {
   "cell_type": "markdown",
   "metadata": {},
   "source": [
    "&Alpha and &alpha =$ \\Alpha and \\alpha\t\n",
    "$\\Nu$ and \\nu =$ \\Nu and \\nu\n",
    "$\\Beta$ and $\\beta$ --> \\Beta and \\beta\t\n",
    "Ξ and ξ\t\\Xi and \\xi\n",
    "Γ and γ\t\\Gamma and \\gamma\t\n",
    "Ο and ο\t\\Omicron and \\omicron\n",
    "Δ and δ\t\\Delta and \\delta\t\n",
    "Π, π and \\varpi\t\\Pi, \\pi and \\varpi\n",
    "Ε, ε and \\varepsilon\t\\Epsilon, \\epsilon and \\varepsilon\t\n",
    "Ρ, ρ and \\varrho\t\\Rho, \\rho and \\varrho\n",
    "Ζ and ζ\t\\Zeta and \\zeta\t\n",
    "Σ, σ and \\varsigma\\,\t\\Sigma, \\sigma and \\varsigma\n",
    "Η and η\t\\Eta and \\eta\t\n",
    "Τ and τ\t\\Tau and \\tau\n",
    "Θ, θ and \\vartheta\t\\Theta, \\theta and \\vartheta\t\n",
    "Υ and υ\t\\Upsilon and \\upsilon\n",
    "Ι and ι\t\\Iota and \\iota\t\n",
    "Φ, φ, and \\varphi\t\\Phi, \\phi and \\varphi\n",
    "Κ, κ and \\varkappa\t\\Kappa, \\kappa and \\varkappa\t\n",
    "Χ and χ\t\\Chi and \\chi\n",
    "Λ and λ\t\\Lambda and \\lambda\t\n",
    "Ψ and ψ\t\\Psi and \\psi\n",
    "Μ and μ\t\\Mu and \\mu\t\n",
    "Ω and ω\t\\Omega and \\omega"
   ]
  },
  {
   "cell_type": "code",
   "execution_count": null,
   "metadata": {},
   "outputs": [],
   "source": [
    ""
   ]
  }
 ],
 "metadata": {
  "kernelspec": {
   "display_name": "Python 2",
   "language": "python",
   "name": "python2"
  },
  "language_info": {
   "codemirror_mode": {
    "name": "ipython",
    "version": 2.0
   },
   "file_extension": ".py",
   "mimetype": "text/x-python",
   "name": "python",
   "nbconvert_exporter": "python",
   "pygments_lexer": "ipython2",
   "version": "2.7.6"
  }
 },
 "nbformat": 4,
 "nbformat_minor": 0
}