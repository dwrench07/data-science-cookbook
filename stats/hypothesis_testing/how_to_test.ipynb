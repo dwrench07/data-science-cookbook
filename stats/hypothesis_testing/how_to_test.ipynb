{
 "cells": [
  {
   "cell_type": "markdown",
   "metadata": {},
   "source": [
    "# How to Test Hypotheses"
   ]
  },
  {
   "cell_type": "code",
   "execution_count": null,
   "metadata": {
    "collapsed": true
   },
   "outputs": [],
   "source": [
    "# TODO: add TOC"
   ]
  },
  {
   "cell_type": "markdown",
   "metadata": {},
   "source": [
    "## How to Conduct Hypothesis Tests\n",
    "All hypothesis tests are conducted the same way. The researcher states a hypothesis to be tested, formulates an analysis plan, analyzes sample data according to the plan, and accepts or rejects the null hypothesis, based on results of the analysis.\n",
    "\n",
    "**State the hypotheses.** \n",
    "Every hypothesis test requires the analyst to state a null hypothesis and an alternative hypothesis. The hypotheses are stated in such a way that they are mutually exclusive. That is, if one is true, the other must be false; and vice versa. \n",
    "\n",
    "**Formulate an analysis plan. **\n",
    "The analysis plan describes how to use sample data to accept or reject the null hypothesis. It should specify the following elements. \n",
    "\n",
    "    * Significance level. Often, researchers choose significance levels equal to 0.01, 0.05, or 0.10; but any value between 0 and 1 can be used.\n",
    "\n",
    "    * Test method. Typically, the test method involves a test statistic and a sampling distribution. Computed from sample data, the test statistic might be a mean score, proportion, difference between means, difference between proportions, z-score, t statistic, chi-square, etc. Given a test statistic and its sampling distribution, a researcher can assess probabilities associated with the test statistic. If the test statistic probability is less than the significance level, the null hypothesis is rejected.\n",
    "\n",
    "**Analyze sample data.**\n",
    "Using sample data, perform computations called for in the analysis plan.\n",
    "\n",
    "    * Test statistic. When the null hypothesis involves a mean or proportion, use either of the following equations to compute the test statistic.\n",
    "$$Test statistic = (Statistic - Parameter) / (Standard deviation of statistic)$$\n",
    "\n",
    "$$Test statistic = (Statistic - Parameter) / (Standard error of statistic)$$\n",
    "\n",
    "where Parameter is the value appearing in the null hypothesis, and Statistic is the point estimate of Parameter. As part of the analysis, you may need to compute the standard deviation or standard error of the statistic. Previously, we presented common formulas for the standard deviation and standard error.\n",
    "\n",
    "When the parameter in the null hypothesis involves categorical data, you may use a chi-square statistic as the test statistic. Instructions for computing a chi-square test statistic are presented in the lesson on the chi-square goodness of fit test.\n",
    "\n",
    "P-value. The P-value is the probability of observing a sample statistic as extreme as the test statistic, assuming the null hypotheis is true.\n",
    "\n",
    "Interpret the results. If the sample findings are unlikely, given the null hypothesis, the researcher rejects the null hypothesis. Typically, this involves comparing the P-value to the significance level, and rejecting the null hypothesis when the P-value is less than the significance level."
   ]
  },
  {
   "cell_type": "markdown",
   "metadata": {},
   "source": [
    "## Applications of the General Hypothesis Testing Procedure\n",
    "The next few lessons show how to apply the general hypothesis testing procedure to different kinds of statistical problems.\n",
    "\n",
    "Proportions\n",
    "Difference between proportions\n",
    "Regression slope\n",
    "Means\n",
    "Difference between means\n",
    "Difference between matched pairs\n",
    "Goodness of fit\n",
    "Homogeneity\n",
    "Independence\n",
    "At this point, don't worry if the general procedure for testing hypotheses seems a little bit unclear. The procedure will be clearer after you read through a few of the examples presented in subsequent lessons."
   ]
  },
  {
   "cell_type": "markdown",
   "metadata": {},
   "source": [
    "## Assumptions\n",
    "\n",
    "The P-value is a probability.\n",
    "\n",
    "The P-value is the probability of observing a sample statistic as extreme as the test statistic. It can be greater than the significance level, but it can also be smaller than the significance level. It is not computed from the significance level, it is not the parameter in the null hypothesis, and it is not a test statistic."
   ]
  },
  {
   "cell_type": "code",
   "execution_count": null,
   "metadata": {
    "collapsed": true
   },
   "outputs": [],
   "source": []
  }
 ],
 "metadata": {
  "kernelspec": {
   "display_name": "Python 3",
   "language": "python",
   "name": "python3"
  },
  "language_info": {
   "codemirror_mode": {
    "name": "ipython",
    "version": 3
   },
   "file_extension": ".py",
   "mimetype": "text/x-python",
   "name": "python",
   "nbconvert_exporter": "python",
   "pygments_lexer": "ipython3",
   "version": "3.6.1"
  }
 },
 "nbformat": 4,
 "nbformat_minor": 2
}
